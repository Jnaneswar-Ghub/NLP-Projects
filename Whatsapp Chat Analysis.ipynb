{
 "cells": [
  {
   "cell_type": "code",
   "execution_count": 2,
   "metadata": {},
   "outputs": [
    {
     "name": "stderr",
     "output_type": "stream",
     "text": [
      "D:\\Anaconda\\lib\\importlib\\_bootstrap.py:219: RuntimeWarning: numpy.ufunc size changed, may indicate binary incompatibility. Expected 192 from C header, got 216 from PyObject\n",
      "  return f(*args, **kwds)\n"
     ]
    }
   ],
   "source": [
    "import regex\n",
    "import pandas as pd\n",
    "import numpy as np\n",
    "import matplotlib.pyplot as plt\n",
    "import emoji\n",
    "from collections import Counter\n",
    "from wordcloud import WordCloud, STOPWORDS, ImageColorGenerator"
   ]
  },
  {
   "cell_type": "code",
   "execution_count": 8,
   "metadata": {},
   "outputs": [],
   "source": [
    "def date_time(s):\n",
    "    pattern = '^([0-9]+)(\\/)([0-9]+)(\\/)([0-9]+), ([0-9]+):([0-9]+)[ ]?(AM|PM|am|pm)? -'\n",
    "    result = regex.match(pattern, s)\n",
    "    if result:\n",
    "        return True\n",
    "    return False\n",
    "\n",
    "def find_author(s):\n",
    "    s = s.split(\":\")\n",
    "    if len(s)==2:\n",
    "        return True\n",
    "    else:\n",
    "        return False\n",
    "\n",
    "def getDatapoint(line):\n",
    "    splitline = line.split(' - ')\n",
    "    dateTime = splitline[0]\n",
    "    date, time = dateTime.split(\", \")\n",
    "    message = \" \".join(splitline[1:])\n",
    "    if find_author(message):\n",
    "        splitmessage = message.split(\": \")\n",
    "        author = splitmessage[0]\n",
    "        message = \" \".join(splitmessage[1:])\n",
    "    else:\n",
    "        author= None\n",
    "    return date, time, author, message"
   ]
  },
  {
   "cell_type": "code",
   "execution_count": 9,
   "metadata": {},
   "outputs": [
    {
     "ename": "TypeError",
     "evalue": "sequence item 0: expected str instance, NoneType found",
     "output_type": "error",
     "traceback": [
      "\u001b[1;31m---------------------------------------------------------------------------\u001b[0m",
      "\u001b[1;31mTypeError\u001b[0m                                 Traceback (most recent call last)",
      "\u001b[1;32m<ipython-input-9-0937cd64cd8d>\u001b[0m in \u001b[0;36m<module>\u001b[1;34m\u001b[0m\n\u001b[0;32m     12\u001b[0m         \u001b[1;32mif\u001b[0m \u001b[0mdate_time\u001b[0m\u001b[1;33m(\u001b[0m\u001b[0mline\u001b[0m\u001b[1;33m)\u001b[0m\u001b[1;33m:\u001b[0m\u001b[1;33m\u001b[0m\u001b[1;33m\u001b[0m\u001b[0m\n\u001b[0;32m     13\u001b[0m             \u001b[1;32mif\u001b[0m \u001b[0mlen\u001b[0m\u001b[1;33m(\u001b[0m\u001b[0mmessageBuffer\u001b[0m\u001b[1;33m)\u001b[0m \u001b[1;33m>\u001b[0m \u001b[1;36m0\u001b[0m\u001b[1;33m:\u001b[0m\u001b[1;33m\u001b[0m\u001b[1;33m\u001b[0m\u001b[0m\n\u001b[1;32m---> 14\u001b[1;33m                 \u001b[0mdata\u001b[0m\u001b[1;33m.\u001b[0m\u001b[0mappend\u001b[0m\u001b[1;33m(\u001b[0m\u001b[1;33m[\u001b[0m\u001b[0mdate\u001b[0m\u001b[1;33m,\u001b[0m \u001b[0mtime\u001b[0m\u001b[1;33m,\u001b[0m \u001b[0mauthor\u001b[0m\u001b[1;33m,\u001b[0m \u001b[1;34m' '\u001b[0m\u001b[1;33m.\u001b[0m\u001b[0mjoin\u001b[0m\u001b[1;33m(\u001b[0m\u001b[0mmessageBuffer\u001b[0m\u001b[1;33m)\u001b[0m\u001b[1;33m]\u001b[0m\u001b[1;33m)\u001b[0m\u001b[1;33m\u001b[0m\u001b[1;33m\u001b[0m\u001b[0m\n\u001b[0m\u001b[0;32m     15\u001b[0m             \u001b[0mmessageBuffer\u001b[0m\u001b[1;33m.\u001b[0m\u001b[0mclear\u001b[0m\u001b[1;33m(\u001b[0m\u001b[1;33m)\u001b[0m\u001b[1;33m\u001b[0m\u001b[1;33m\u001b[0m\u001b[0m\n\u001b[0;32m     16\u001b[0m             \u001b[0mdate\u001b[0m\u001b[1;33m,\u001b[0m \u001b[0mtime\u001b[0m\u001b[1;33m,\u001b[0m \u001b[0mauthor\u001b[0m\u001b[1;33m,\u001b[0m \u001b[0mmessage\u001b[0m \u001b[1;33m=\u001b[0m \u001b[0mgetData\u001b[0m\u001b[1;33m(\u001b[0m\u001b[0mline\u001b[0m\u001b[1;33m)\u001b[0m\u001b[1;33m\u001b[0m\u001b[1;33m\u001b[0m\u001b[0m\n",
      "\u001b[1;31mTypeError\u001b[0m: sequence item 0: expected str instance, NoneType found"
     ]
    }
   ],
   "source": [
    "data = []\n",
    "conversation = 'data/whatsapp.txt'\n",
    "with open(conversation, encoding=\"utf-8\") as fp:\n",
    "    fp.readline()\n",
    "    messageBuffer = []\n",
    "    date, time, author = None, None, None\n",
    "    while True:\n",
    "        line = fp.readline()\n",
    "        if not line:\n",
    "            break\n",
    "        line = line.strip()\n",
    "        if date_time(line):\n",
    "            if len(messageBuffer) > 0:\n",
    "                data.append([date, time, author, ' '.join(messageBuffer)])\n",
    "            messageBuffer.clear()\n",
    "            date, time, author, message = getData(line)\n",
    "            messageBuffer.append(message)\n",
    "        else:\n",
    "            messageBuffer.append(line)"
   ]
  },
  {
   "cell_type": "code",
   "execution_count": 10,
   "metadata": {},
   "outputs": [
    {
     "data": {
      "text/plain": [
       "[['7/15/20', ' 08:38', '', 'Jnaneswar Singaraju: Hey'],\n",
       " ['7/15/20', ' 09:22', '', 'Arihant IIIT: Ok'],\n",
       " ['7/20/20', ' 21:09', '', 'Arihant IIIT: Hello'],\n",
       " ['7/20/20', ' 21:15', '', 'Jnaneswar Singaraju: Hey'],\n",
       " ['7/20/20', ' 21:37', '', 'Arihant IIIT: Are you done preparation of ss?'],\n",
       " ['7/20/20',\n",
       "  ' 21:38',\n",
       "  '',\n",
       "  'Jnaneswar Singaraju: Kinda just went thru some notes'],\n",
       " ['7/20/20', ' 21:38', '', \"Jnaneswar Singaraju: That's it\"],\n",
       " ['7/20/20', ' 21:38', '', 'Jnaneswar Singaraju: You?'],\n",
       " ['7/20/20', ' 21:38', '', 'Arihant IIIT: Thanks bruh 😂'],\n",
       " ['7/20/20', ' 21:38', '', \"Arihant IIIT: You're helping me tomorrow\"],\n",
       " ['7/20/20', ' 21:46', '', 'Arihant IIIT: 😂'],\n",
       " ['7/20/20', ' 21:46', '', 'Arihant IIIT: No'],\n",
       " ['7/20/20',\n",
       "  ' 21:47',\n",
       "  '',\n",
       "  \"Arihant IIIT: I don't even know the syllabus of all subject other than m2\"],\n",
       " ['7/20/20',\n",
       "  ' 21:54',\n",
       "  '',\n",
       "  \"Jnaneswar Singaraju: Haha we'll all get help from some others bruh 😆\"],\n",
       " ['7/20/20',\n",
       "  ' 21:55',\n",
       "  '',\n",
       "  \"Jnaneswar Singaraju: I still haven't seen anything related to BEC since March\"],\n",
       " ['7/20/20', ' 22:13', '', 'Arihant IIIT: Good'],\n",
       " ['7/20/20', ' 22:26', '', 'Jnaneswar Singaraju: Yeaahh'],\n",
       " ['7/21/20', ' 10:29', '', 'Arihant IIIT: Ready to cheat?😂'],\n",
       " ['7/21/20', ' 10:29', '', 'Jnaneswar Singaraju: Always!'],\n",
       " ['7/21/20', ' 10:29', '', 'Jnaneswar Singaraju: Jai Mahishmathi'],\n",
       " ['7/21/20', ' 10:30', '', 'Arihant IIIT: 😁😂'],\n",
       " ['7/21/20', ' 10:30', '', 'Jnaneswar Singaraju: 😆😆'],\n",
       " ['7/21/20', ' 10:31', '', 'Jnaneswar Singaraju: Will the ques be jumbled'],\n",
       " ['7/21/20', ' 10:31', \" we'll find out soon\", 'Jnaneswar Singaraju: Nah'],\n",
       " ['7/21/20', ' 10:31', '', 'Arihant IIIT: i think'],\n",
       " ['7/21/20',\n",
       "  ' 10:31',\n",
       "  '',\n",
       "  'Jnaneswar Singaraju: Yeah that is the least they can do to prevent us from copying'],\n",
       " ['7/21/20', ' 10:34', '', 'Arihant IIIT: Questions and options are JUmbled'],\n",
       " ['7/21/20', ' 10:35', '', 'Jnaneswar Singaraju: Yeah'],\n",
       " ['7/21/20',\n",
       "  ' 10:42',\n",
       "  '',\n",
       "  \"Jnaneswar Singaraju: Bruh I don't trust that group\"],\n",
       " ['7/21/20',\n",
       "  ' 10:42',\n",
       "  '',\n",
       "  \"Jnaneswar Singaraju: The answers don't seem correct\"],\n",
       " ['7/21/20', ' 10:42', '', 'Arihant IIIT: YEs'],\n",
       " ['7/21/20', ' 10:42', '', 'Arihant IIIT: I think so'],\n",
       " ['7/21/20', ' 10:43', '', 'Jnaneswar Singaraju: Yeh'],\n",
       " ['7/21/20', ' 10:45', '', \"Arihant IIIT: I'll send you right responce\"],\n",
       " ['7/21/20', ' 10:46', '', 'Jnaneswar Singaraju: Yeah man'],\n",
       " ['7/21/20', ' 10:46', '', \"Jnaneswar Singaraju: I'll send you what I got\"],\n",
       " ['7/21/20', ' 10:46', '', 'Jnaneswar Singaraju: Too']]"
      ]
     },
     "execution_count": 10,
     "metadata": {},
     "output_type": "execute_result"
    }
   ],
   "source": [
    "data"
   ]
  },
  {
   "cell_type": "code",
   "execution_count": null,
   "metadata": {},
   "outputs": [],
   "source": []
  }
 ],
 "metadata": {
  "kernelspec": {
   "display_name": "Python 3",
   "language": "python",
   "name": "python3"
  },
  "language_info": {
   "codemirror_mode": {
    "name": "ipython",
    "version": 3
   },
   "file_extension": ".py",
   "mimetype": "text/x-python",
   "name": "python",
   "nbconvert_exporter": "python",
   "pygments_lexer": "ipython3",
   "version": "3.7.6"
  }
 },
 "nbformat": 4,
 "nbformat_minor": 4
}
